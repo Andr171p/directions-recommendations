{
 "cells": [
  {
   "cell_type": "code",
   "execution_count": 14,
   "metadata": {},
   "outputs": [],
   "source": [
    "import pandas as pd"
   ]
  },
  {
   "cell_type": "code",
   "execution_count": 15,
   "metadata": {},
   "outputs": [
    {
     "data": {
      "text/plain": [
       "['27.03.01 Стандартизация и метрология',\n",
       " '08.03.01 Строительство',\n",
       " '13.03.01 Теплоэнергетика и теплотехника',\n",
       " '21.03.01 Нефтегазовое дело',\n",
       " '18.03.02 Энерго- и ресурсосберегающие процессы в химической технологии, нефтехимии и биотехнологии',\n",
       " '27.03.02 Управление качеством',\n",
       " '15.03.04 Автоматизация технологических процессов и производств',\n",
       " '08.05.01 Строительство уникальных зданий и сооружений',\n",
       " '23.03.03 Эксплуатация транспортно-технологических машин и комплексов',\n",
       " '07.03.03 Дизайн архитектурной среды',\n",
       " '21.03.02 Землеустройство и кадастры',\n",
       " '21.05.02 Прикладная геология',\n",
       " '15.03.01 Машиностроение',\n",
       " '27.03.03 Системный анализ и управление',\n",
       " '23.05.01 Наземные транспортно-технологические средства',\n",
       " '08.05.02 Строительство, эксплуатация, восстановление и техническое прикрытие автомобильных дорог, мостов и тоннелей',\n",
       " '15.03.05 Конструкторско-технологическое обеспечение машиностроительных производств',\n",
       " '21.05.03 Технология геологической разведки',\n",
       " '12.03.01 Приборостроение',\n",
       " '22.03.01 Материаловедение и технологии материалов',\n",
       " '20.03.01 Техносферная безопасность',\n",
       " '07.03.01 Архитектура',\n",
       " '09.03.02 Информационные системы и технологии',\n",
       " '13.03.02 Электроэнергетика и электротехника',\n",
       " '12.03.04 Биотехнические системы и технологии',\n",
       " '09.03.01 Информатика и вычислительная техника',\n",
       " '05.03.01 Геология',\n",
       " '19.03.04 Технология продукции и организация общественного питания',\n",
       " '27.03.04 Управление в технических системах',\n",
       " '23.03.02 Наземные транспортно-технологические комплексы',\n",
       " '18.03.01 Химическая технология',\n",
       " '43.03.01 Сервис',\n",
       " '23.03.01 Технология транспортных процессов',\n",
       " '21.05.01 Прикладная геодезия',\n",
       " '43.03.03 Гостиничное дело',\n",
       " '27.03.05 Инноватика',\n",
       " '15.03.06 Мехатроника и робототехника',\n",
       " '45.03.04 Интеллектуальные системы в гуманитарной сфере',\n",
       " '01.03.02 Прикладная математика и информатика',\n",
       " '02.03.01 Математика и компьютерные науки',\n",
       " '21.05.00 Прикладная геология, горное дело, нефтегазовое дело и геодезия',\n",
       " '09.03.00 Информатика и вычислительная техника',\n",
       " '08.05.00 Техника и технологии строительства',\n",
       " '43.03.00 Сервис и туризм',\n",
       " '28.03.03 Наноматериалы',\n",
       " '18.03.00 Химические технологии',\n",
       " '27.03.00 Управление в технических системах',\n",
       " '41.03.06 Публичная политика и социальные науки']"
      ]
     },
     "execution_count": 15,
     "metadata": {},
     "output_type": "execute_result"
    }
   ],
   "source": [
    "applicants_df = pd.read_csv(r\"C:\\Users\\andre\\IdeaProjects\\TyuiuDirectionsRecSys\\scripts\\Processed_Applicants.csv\")\n",
    "applicants_directions_df = applicants_df[\"direction\"]\n",
    "applicants_directions = applicants_directions_df.unique()\n",
    "applicants_directions = applicants_directions.tolist()\n",
    "applicants_directions"
   ]
  },
  {
   "cell_type": "code",
   "execution_count": 16,
   "metadata": {},
   "outputs": [
    {
     "data": {
      "text/html": [
       "<div>\n",
       "<style scoped>\n",
       "    .dataframe tbody tr th:only-of-type {\n",
       "        vertical-align: middle;\n",
       "    }\n",
       "\n",
       "    .dataframe tbody tr th {\n",
       "        vertical-align: top;\n",
       "    }\n",
       "\n",
       "    .dataframe thead th {\n",
       "        text-align: right;\n",
       "    }\n",
       "</style>\n",
       "<table border=\"1\" class=\"dataframe\">\n",
       "  <thead>\n",
       "    <tr style=\"text-align: right;\">\n",
       "      <th></th>\n",
       "      <th>name</th>\n",
       "      <th>description</th>\n",
       "    </tr>\n",
       "  </thead>\n",
       "  <tbody>\n",
       "    <tr>\n",
       "      <th>0</th>\n",
       "      <td>13.03.01 Теплоэнергетика и теплотехника</td>\n",
       "      <td>Форма обучения:Очно/ЗаочноПрофиль:Промышленная...</td>\n",
       "    </tr>\n",
       "    <tr>\n",
       "      <th>1</th>\n",
       "      <td>20.03.01 Техносферная безопасность</td>\n",
       "      <td>Форма обучения:Очно/заочноПрофили:Инженерная\\n...</td>\n",
       "    </tr>\n",
       "    <tr>\n",
       "      <th>2</th>\n",
       "      <td>21.03.02 Землеустройство и кадастры</td>\n",
       "      <td>Форма обучения:Очно/ЗаочноПрофиль:Кадастр недв...</td>\n",
       "    </tr>\n",
       "  </tbody>\n",
       "</table>\n",
       "</div>"
      ],
      "text/plain": [
       "                                      name  \\\n",
       "0  13.03.01 Теплоэнергетика и теплотехника   \n",
       "1       20.03.01 Техносферная безопасность   \n",
       "2      21.03.02 Землеустройство и кадастры   \n",
       "\n",
       "                                         description  \n",
       "0  Форма обучения:Очно/ЗаочноПрофиль:Промышленная...  \n",
       "1  Форма обучения:Очно/заочноПрофили:Инженерная\\n...  \n",
       "2  Форма обучения:Очно/ЗаочноПрофиль:Кадастр недв...  "
      ]
     },
     "execution_count": 16,
     "metadata": {},
     "output_type": "execute_result"
    }
   ],
   "source": [
    "directions_df = pd.read_csv(\"ТИУ Направления подготовки Бакалавриат.csv\")\n",
    "directions_df.drop(\"Unnamed: 0\", axis=1, inplace=True)\n",
    "directions_df.head(3)"
   ]
  },
  {
   "cell_type": "code",
   "execution_count": 17,
   "metadata": {},
   "outputs": [
    {
     "data": {
      "text/plain": [
       "(57, 2)"
      ]
     },
     "execution_count": 17,
     "metadata": {},
     "output_type": "execute_result"
    }
   ],
   "source": [
    "directions_df.shape"
   ]
  },
  {
   "cell_type": "code",
   "execution_count": 19,
   "metadata": {},
   "outputs": [
    {
     "data": {
      "text/plain": [
       "(24, 2)"
      ]
     },
     "execution_count": 19,
     "metadata": {},
     "output_type": "execute_result"
    }
   ],
   "source": [
    "directions_df = directions_df[directions_df[\"name\"].isin(applicants_directions)]\n",
    "directions_df.shape"
   ]
  },
  {
   "cell_type": "code",
   "execution_count": 20,
   "metadata": {},
   "outputs": [
    {
     "data": {
      "text/plain": [
       "name\n",
       "43.03.01 Сервис                                                                                                        2\n",
       "09.03.01 Информатика и вычислительная техника                                                                          2\n",
       "13.03.01 Теплоэнергетика и теплотехника                                                                                1\n",
       "19.03.04 Технология продукции и организация общественного питания                                                      1\n",
       "05.03.01 Геология                                                                                                      1\n",
       "08.05.02 Строительство, эксплуатация, восстановление и техническое прикрытие автомобильных дорог, мостов и тоннелей    1\n",
       "08.05.01 Строительство уникальных зданий и сооружений                                                                  1\n",
       "08.03.01 Строительство                                                                                                 1\n",
       "27.03.05 Инноватика                                                                                                    1\n",
       "27.03.01 Стандартизация и метрология                                                                                   1\n",
       "22.03.01 Материаловедение и технологии материалов                                                                      1\n",
       "28.03.03 Наноматериалы                                                                                                 1\n",
       "18.03.01 Химическая технология                                                                                         1\n",
       "20.03.01 Техносферная безопасность                                                                                     1\n",
       "13.03.02 Электроэнергетика и электротехника                                                                            1\n",
       "12.03.01 Приборостроение                                                                                               1\n",
       "09.03.02 Информационные системы и технологии                                                                           1\n",
       "01.03.02 Прикладная математика и информатика                                                                           1\n",
       "43.03.03 Гостиничное дело                                                                                              1\n",
       "27.03.03 Системный анализ и управление                                                                                 1\n",
       "21.03.02 Землеустройство и кадастры                                                                                    1\n",
       "21.05.03 Технология геологической разведки                                                                             1\n",
       "Name: count, dtype: int64"
      ]
     },
     "execution_count": 20,
     "metadata": {},
     "output_type": "execute_result"
    }
   ],
   "source": [
    "directions_df[\"name\"].value_counts()"
   ]
  },
  {
   "cell_type": "code",
   "execution_count": 21,
   "metadata": {},
   "outputs": [
    {
     "data": {
      "text/plain": [
       "0      1\n",
       "1      2\n",
       "2      3\n",
       "3      4\n",
       "5      5\n",
       "6      6\n",
       "7      7\n",
       "22     8\n",
       "23     9\n",
       "24    10\n",
       "25    11\n",
       "29    12\n",
       "30    13\n",
       "32    14\n",
       "34    15\n",
       "35    16\n",
       "36    17\n",
       "37    18\n",
       "38    19\n",
       "43    20\n",
       "44    21\n",
       "45    22\n",
       "47    23\n",
       "50    24\n",
       "Name: direction_id, dtype: int64"
      ]
     },
     "execution_count": 21,
     "metadata": {},
     "output_type": "execute_result"
    }
   ],
   "source": [
    "directions_df[\"direction_id\"] = [i + 1 for i in range(len(directions_df))]\n",
    "directions_df[\"direction_id\"]"
   ]
  },
  {
   "cell_type": "code",
   "execution_count": 22,
   "metadata": {},
   "outputs": [
    {
     "data": {
      "text/html": [
       "<div>\n",
       "<style scoped>\n",
       "    .dataframe tbody tr th:only-of-type {\n",
       "        vertical-align: middle;\n",
       "    }\n",
       "\n",
       "    .dataframe tbody tr th {\n",
       "        vertical-align: top;\n",
       "    }\n",
       "\n",
       "    .dataframe thead th {\n",
       "        text-align: right;\n",
       "    }\n",
       "</style>\n",
       "<table border=\"1\" class=\"dataframe\">\n",
       "  <thead>\n",
       "    <tr style=\"text-align: right;\">\n",
       "      <th></th>\n",
       "      <th>name</th>\n",
       "      <th>description</th>\n",
       "      <th>direction_id</th>\n",
       "    </tr>\n",
       "  </thead>\n",
       "  <tbody>\n",
       "    <tr>\n",
       "      <th>0</th>\n",
       "      <td>13.03.01 Теплоэнергетика и теплотехника</td>\n",
       "      <td>Форма обучения:Очно/ЗаочноПрофиль:Промышленная...</td>\n",
       "      <td>1</td>\n",
       "    </tr>\n",
       "    <tr>\n",
       "      <th>1</th>\n",
       "      <td>20.03.01 Техносферная безопасность</td>\n",
       "      <td>Форма обучения:Очно/заочноПрофили:Инженерная\\n...</td>\n",
       "      <td>2</td>\n",
       "    </tr>\n",
       "    <tr>\n",
       "      <th>2</th>\n",
       "      <td>21.03.02 Землеустройство и кадастры</td>\n",
       "      <td>Форма обучения:Очно/ЗаочноПрофиль:Кадастр недв...</td>\n",
       "      <td>3</td>\n",
       "    </tr>\n",
       "  </tbody>\n",
       "</table>\n",
       "</div>"
      ],
      "text/plain": [
       "                                      name  \\\n",
       "0  13.03.01 Теплоэнергетика и теплотехника   \n",
       "1       20.03.01 Техносферная безопасность   \n",
       "2      21.03.02 Землеустройство и кадастры   \n",
       "\n",
       "                                         description  direction_id  \n",
       "0  Форма обучения:Очно/ЗаочноПрофиль:Промышленная...             1  \n",
       "1  Форма обучения:Очно/заочноПрофили:Инженерная\\n...             2  \n",
       "2  Форма обучения:Очно/ЗаочноПрофиль:Кадастр недв...             3  "
      ]
     },
     "execution_count": 22,
     "metadata": {},
     "output_type": "execute_result"
    }
   ],
   "source": [
    "directions_df.head(3)"
   ]
  },
  {
   "cell_type": "code",
   "execution_count": 23,
   "metadata": {},
   "outputs": [],
   "source": [
    "directions_df.to_csv(\"Processed_Directions.csv\")"
   ]
  }
 ],
 "metadata": {
  "kernelspec": {
   "display_name": "Python 3",
   "language": "python",
   "name": "python3"
  },
  "language_info": {
   "codemirror_mode": {
    "name": "ipython",
    "version": 3
   },
   "file_extension": ".py",
   "mimetype": "text/x-python",
   "name": "python",
   "nbconvert_exporter": "python",
   "pygments_lexer": "ipython3",
   "version": "3.11.3"
  }
 },
 "nbformat": 4,
 "nbformat_minor": 2
}
