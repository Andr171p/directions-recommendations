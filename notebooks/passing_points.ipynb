{
 "cells": [
  {
   "cell_type": "code",
   "execution_count": 1,
   "metadata": {},
   "outputs": [],
   "source": [
    "import pandas as pd"
   ]
  },
  {
   "cell_type": "code",
   "execution_count": 6,
   "metadata": {},
   "outputs": [
    {
     "data": {
      "text/plain": [
       "{'2014': WindowsPath('C:/Users/andre/IdeaProjects/TyuiuDirectionsRecSys/data/10 лет/2014.xls'),\n",
       " '2015': WindowsPath('C:/Users/andre/IdeaProjects/TyuiuDirectionsRecSys/data/10 лет/2015.xls'),\n",
       " '2016': WindowsPath('C:/Users/andre/IdeaProjects/TyuiuDirectionsRecSys/data/10 лет/2016.xls'),\n",
       " '2017': WindowsPath('C:/Users/andre/IdeaProjects/TyuiuDirectionsRecSys/data/10 лет/2017.xls'),\n",
       " '2018': WindowsPath('C:/Users/andre/IdeaProjects/TyuiuDirectionsRecSys/data/10 лет/2018.xls'),\n",
       " '2019': WindowsPath('C:/Users/andre/IdeaProjects/TyuiuDirectionsRecSys/data/10 лет/2019.xlsx'),\n",
       " '2020': WindowsPath('C:/Users/andre/IdeaProjects/TyuiuDirectionsRecSys/data/10 лет/2020.xlsx'),\n",
       " '2021': WindowsPath('C:/Users/andre/IdeaProjects/TyuiuDirectionsRecSys/data/10 лет/2021.xlsx'),\n",
       " '2022': WindowsPath('C:/Users/andre/IdeaProjects/TyuiuDirectionsRecSys/data/10 лет/2022.xlsx'),\n",
       " '2023': WindowsPath('C:/Users/andre/IdeaProjects/TyuiuDirectionsRecSys/data/10 лет/2023.xlsx'),\n",
       " '2024': WindowsPath('C:/Users/andre/IdeaProjects/TyuiuDirectionsRecSys/data/10 лет/2024.xlsx')}"
      ]
     },
     "execution_count": 6,
     "metadata": {},
     "output_type": "execute_result"
    }
   ],
   "source": [
    "from pathlib import Path\n",
    "\n",
    "EXCELS_DIR = r\"C:\\Users\\andre\\IdeaProjects\\TyuiuDirectionsRecSys\\data\\10 лет\"\n",
    "\n",
    "files = {}\n",
    "for file_path in Path(EXCELS_DIR).iterdir():\n",
    "    year = str(file_path).split(\".\")[0][-4:]\n",
    "    files[year] = file_path\n",
    "files"
   ]
  },
  {
   "cell_type": "code",
   "execution_count": 7,
   "metadata": {},
   "outputs": [],
   "source": [
    "df_2014 = pd.read_excel(files[\"2014\"])"
   ]
  },
  {
   "cell_type": "code",
   "execution_count": 10,
   "metadata": {},
   "outputs": [
    {
     "data": {
      "text/html": [
       "<div>\n",
       "<style scoped>\n",
       "    .dataframe tbody tr th:only-of-type {\n",
       "        vertical-align: middle;\n",
       "    }\n",
       "\n",
       "    .dataframe tbody tr th {\n",
       "        vertical-align: top;\n",
       "    }\n",
       "\n",
       "    .dataframe thead th {\n",
       "        text-align: right;\n",
       "    }\n",
       "</style>\n",
       "<table border=\"1\" class=\"dataframe\">\n",
       "  <thead>\n",
       "    <tr style=\"text-align: right;\">\n",
       "      <th></th>\n",
       "      <th>Зачислен на направление подготовки (специальность)</th>\n",
       "      <th>Зачислен по виду возмещения затрат</th>\n",
       "      <th>Сумма баллов</th>\n",
       "    </tr>\n",
       "  </thead>\n",
       "  <tbody>\n",
       "    <tr>\n",
       "      <th>0</th>\n",
       "      <td>21.03.01 Нефтегазовое дело (Академический бака...</td>\n",
       "      <td>бюджет</td>\n",
       "      <td>184</td>\n",
       "    </tr>\n",
       "    <tr>\n",
       "      <th>1</th>\n",
       "      <td>21.03.01 Нефтегазовое дело (Академический бака...</td>\n",
       "      <td>по договору</td>\n",
       "      <td>123</td>\n",
       "    </tr>\n",
       "    <tr>\n",
       "      <th>2</th>\n",
       "      <td>38.03.02 Менеджмент (Академический бакалавр, К...</td>\n",
       "      <td>бюджет</td>\n",
       "      <td>185</td>\n",
       "    </tr>\n",
       "  </tbody>\n",
       "</table>\n",
       "</div>"
      ],
      "text/plain": [
       "  Зачислен на направление подготовки (специальность)  \\\n",
       "0  21.03.01 Нефтегазовое дело (Академический бака...   \n",
       "1  21.03.01 Нефтегазовое дело (Академический бака...   \n",
       "2  38.03.02 Менеджмент (Академический бакалавр, К...   \n",
       "\n",
       "  Зачислен по виду возмещения затрат  Сумма баллов  \n",
       "0                             бюджет           184  \n",
       "1                        по договору           123  \n",
       "2                             бюджет           185  "
      ]
     },
     "execution_count": 10,
     "metadata": {},
     "output_type": "execute_result"
    }
   ],
   "source": [
    "df_2014 = df_2014[[\"Зачислен на направление подготовки (специальность)\", \"Зачислен по виду возмещения затрат\", \"Сумма баллов\"]]\n",
    "df_2014.head(3)"
   ]
  },
  {
   "cell_type": "code",
   "execution_count": 11,
   "metadata": {},
   "outputs": [
    {
     "data": {
      "text/html": [
       "<div>\n",
       "<style scoped>\n",
       "    .dataframe tbody tr th:only-of-type {\n",
       "        vertical-align: middle;\n",
       "    }\n",
       "\n",
       "    .dataframe tbody tr th {\n",
       "        vertical-align: top;\n",
       "    }\n",
       "\n",
       "    .dataframe thead th {\n",
       "        text-align: right;\n",
       "    }\n",
       "</style>\n",
       "<table border=\"1\" class=\"dataframe\">\n",
       "  <thead>\n",
       "    <tr style=\"text-align: right;\">\n",
       "      <th></th>\n",
       "      <th>Зачислен на направление подготовки (специальность)</th>\n",
       "      <th>Зачислен по виду возмещения затрат</th>\n",
       "      <th>Сумма баллов</th>\n",
       "    </tr>\n",
       "  </thead>\n",
       "  <tbody>\n",
       "    <tr>\n",
       "      <th>0</th>\n",
       "      <td>21.03.01 Нефтегазовое дело (Академический бака...</td>\n",
       "      <td>бюджет</td>\n",
       "      <td>184</td>\n",
       "    </tr>\n",
       "    <tr>\n",
       "      <th>2</th>\n",
       "      <td>38.03.02 Менеджмент (Академический бакалавр, К...</td>\n",
       "      <td>бюджет</td>\n",
       "      <td>185</td>\n",
       "    </tr>\n",
       "    <tr>\n",
       "      <th>4</th>\n",
       "      <td>21.05.02 Прикладная геология (Горный инженер-г...</td>\n",
       "      <td>бюджет</td>\n",
       "      <td>170</td>\n",
       "    </tr>\n",
       "  </tbody>\n",
       "</table>\n",
       "</div>"
      ],
      "text/plain": [
       "  Зачислен на направление подготовки (специальность)  \\\n",
       "0  21.03.01 Нефтегазовое дело (Академический бака...   \n",
       "2  38.03.02 Менеджмент (Академический бакалавр, К...   \n",
       "4  21.05.02 Прикладная геология (Горный инженер-г...   \n",
       "\n",
       "  Зачислен по виду возмещения затрат  Сумма баллов  \n",
       "0                             бюджет           184  \n",
       "2                             бюджет           185  \n",
       "4                             бюджет           170  "
      ]
     },
     "execution_count": 11,
     "metadata": {},
     "output_type": "execute_result"
    }
   ],
   "source": [
    "df_2014 = df_2014[df_2014[\"Зачислен по виду возмещения затрат\"] == \"бюджет\"]\n",
    "df_2014.head(3)"
   ]
  },
  {
   "cell_type": "code",
   "execution_count": 12,
   "metadata": {},
   "outputs": [
    {
     "data": {
      "text/html": [
       "<div>\n",
       "<style scoped>\n",
       "    .dataframe tbody tr th:only-of-type {\n",
       "        vertical-align: middle;\n",
       "    }\n",
       "\n",
       "    .dataframe tbody tr th {\n",
       "        vertical-align: top;\n",
       "    }\n",
       "\n",
       "    .dataframe thead th {\n",
       "        text-align: right;\n",
       "    }\n",
       "</style>\n",
       "<table border=\"1\" class=\"dataframe\">\n",
       "  <thead>\n",
       "    <tr style=\"text-align: right;\">\n",
       "      <th></th>\n",
       "      <th>Зачислен на направление подготовки (специальность)</th>\n",
       "      <th>Сумма баллов</th>\n",
       "    </tr>\n",
       "  </thead>\n",
       "  <tbody>\n",
       "    <tr>\n",
       "      <th>0</th>\n",
       "      <td>05.03.01 Геология (Академический бакалавр, Каф...</td>\n",
       "      <td>133</td>\n",
       "    </tr>\n",
       "    <tr>\n",
       "      <th>1</th>\n",
       "      <td>09.03.01 Информатика и вычислительная техника ...</td>\n",
       "      <td>136</td>\n",
       "    </tr>\n",
       "    <tr>\n",
       "      <th>2</th>\n",
       "      <td>09.03.02 Информационные системы и технологии (...</td>\n",
       "      <td>146</td>\n",
       "    </tr>\n",
       "    <tr>\n",
       "      <th>3</th>\n",
       "      <td>12.03.01 Приборостроение (Академический бакала...</td>\n",
       "      <td>146</td>\n",
       "    </tr>\n",
       "    <tr>\n",
       "      <th>4</th>\n",
       "      <td>12.03.04 Биотехнические системы и технологии (...</td>\n",
       "      <td>113</td>\n",
       "    </tr>\n",
       "  </tbody>\n",
       "</table>\n",
       "</div>"
      ],
      "text/plain": [
       "  Зачислен на направление подготовки (специальность)  Сумма баллов\n",
       "0  05.03.01 Геология (Академический бакалавр, Каф...           133\n",
       "1  09.03.01 Информатика и вычислительная техника ...           136\n",
       "2  09.03.02 Информационные системы и технологии (...           146\n",
       "3  12.03.01 Приборостроение (Академический бакала...           146\n",
       "4  12.03.04 Биотехнические системы и технологии (...           113"
      ]
     },
     "execution_count": 12,
     "metadata": {},
     "output_type": "execute_result"
    }
   ],
   "source": [
    "df_2014 = df_2014.groupby('Зачислен на направление подготовки (специальность)')['Сумма баллов'].min().reset_index()\n",
    "df_2014.head(5)"
   ]
  },
  {
   "cell_type": "code",
   "execution_count": 14,
   "metadata": {},
   "outputs": [],
   "source": [
    "df_2014[\"Год\"] = 2014"
   ]
  },
  {
   "cell_type": "code",
   "execution_count": 15,
   "metadata": {},
   "outputs": [],
   "source": [
    "df_2014.to_csv(\"ТИУ_проходные_баллы_2014.csv\")"
   ]
  },
  {
   "cell_type": "code",
   "execution_count": 28,
   "metadata": {},
   "outputs": [
    {
     "data": {
      "text/html": [
       "<div>\n",
       "<style scoped>\n",
       "    .dataframe tbody tr th:only-of-type {\n",
       "        vertical-align: middle;\n",
       "    }\n",
       "\n",
       "    .dataframe tbody tr th {\n",
       "        vertical-align: top;\n",
       "    }\n",
       "\n",
       "    .dataframe thead th {\n",
       "        text-align: right;\n",
       "    }\n",
       "</style>\n",
       "<table border=\"1\" class=\"dataframe\">\n",
       "  <thead>\n",
       "    <tr style=\"text-align: right;\">\n",
       "      <th></th>\n",
       "      <th>Вид возмещения затрат</th>\n",
       "      <th>Направление, специальность, профессия</th>\n",
       "      <th>Итоговая сумма баллов</th>\n",
       "    </tr>\n",
       "  </thead>\n",
       "  <tbody>\n",
       "    <tr>\n",
       "      <th>0</th>\n",
       "      <td>по договору</td>\n",
       "      <td>21.03.01 Нефтегазовое дело</td>\n",
       "      <td>49,00</td>\n",
       "    </tr>\n",
       "    <tr>\n",
       "      <th>1</th>\n",
       "      <td>по договору</td>\n",
       "      <td>13.03.02 Электроэнергетика и электротехника</td>\n",
       "      <td>80,00</td>\n",
       "    </tr>\n",
       "    <tr>\n",
       "      <th>2</th>\n",
       "      <td>по договору</td>\n",
       "      <td>21.03.01 Нефтегазовое дело</td>\n",
       "      <td>52,00</td>\n",
       "    </tr>\n",
       "  </tbody>\n",
       "</table>\n",
       "</div>"
      ],
      "text/plain": [
       "  Вид возмещения затрат        Направление, специальность, профессия  \\\n",
       "0           по договору                   21.03.01 Нефтегазовое дело   \n",
       "1           по договору  13.03.02 Электроэнергетика и электротехника   \n",
       "2           по договору                   21.03.01 Нефтегазовое дело   \n",
       "\n",
       "  Итоговая сумма баллов  \n",
       "0                 49,00  \n",
       "1                 80,00  \n",
       "2                 52,00  "
      ]
     },
     "execution_count": 28,
     "metadata": {},
     "output_type": "execute_result"
    }
   ],
   "source": [
    "df_2015 = pd.read_excel(files[\"2015\"])\n",
    "df_2015 = df_2015[[\"Вид возмещения затрат\", \"Направление, специальность, профессия\", \"Итоговая сумма баллов\"]]\n",
    "df_2015.head(3)"
   ]
  },
  {
   "cell_type": "code",
   "execution_count": 29,
   "metadata": {},
   "outputs": [
    {
     "data": {
      "text/html": [
       "<div>\n",
       "<style scoped>\n",
       "    .dataframe tbody tr th:only-of-type {\n",
       "        vertical-align: middle;\n",
       "    }\n",
       "\n",
       "    .dataframe tbody tr th {\n",
       "        vertical-align: top;\n",
       "    }\n",
       "\n",
       "    .dataframe thead th {\n",
       "        text-align: right;\n",
       "    }\n",
       "</style>\n",
       "<table border=\"1\" class=\"dataframe\">\n",
       "  <thead>\n",
       "    <tr style=\"text-align: right;\">\n",
       "      <th></th>\n",
       "      <th>Вид возмещения затрат</th>\n",
       "      <th>Направление, специальность, профессия</th>\n",
       "      <th>Итоговая сумма баллов</th>\n",
       "    </tr>\n",
       "  </thead>\n",
       "  <tbody>\n",
       "    <tr>\n",
       "      <th>5</th>\n",
       "      <td>бюджет</td>\n",
       "      <td>12.03.01 Приборостроение</td>\n",
       "      <td>178,00</td>\n",
       "    </tr>\n",
       "    <tr>\n",
       "      <th>18</th>\n",
       "      <td>бюджет</td>\n",
       "      <td>21.05.02 Прикладная геология</td>\n",
       "      <td>214,00</td>\n",
       "    </tr>\n",
       "    <tr>\n",
       "      <th>20</th>\n",
       "      <td>бюджет</td>\n",
       "      <td>13.03.02 Электроэнергетика и электротехника</td>\n",
       "      <td>91,00</td>\n",
       "    </tr>\n",
       "  </tbody>\n",
       "</table>\n",
       "</div>"
      ],
      "text/plain": [
       "   Вид возмещения затрат        Направление, специальность, профессия  \\\n",
       "5                 бюджет                     12.03.01 Приборостроение   \n",
       "18                бюджет                 21.05.02 Прикладная геология   \n",
       "20                бюджет  13.03.02 Электроэнергетика и электротехника   \n",
       "\n",
       "   Итоговая сумма баллов  \n",
       "5                 178,00  \n",
       "18                214,00  \n",
       "20                 91,00  "
      ]
     },
     "execution_count": 29,
     "metadata": {},
     "output_type": "execute_result"
    }
   ],
   "source": [
    "df_2015 = df_2015[df_2015[\"Вид возмещения затрат\"] == \"бюджет\"]\n",
    "df_2015.head(3)"
   ]
  },
  {
   "cell_type": "code",
   "execution_count": null,
   "metadata": {},
   "outputs": [],
   "source": [
    "df_2015[\"Итоговая сумма баллов\"] = pd.to_numeric(df_2015['Итоговая сумма баллов'].str.replace(',', '.', regex=False), errors='coerce')"
   ]
  },
  {
   "cell_type": "code",
   "execution_count": 32,
   "metadata": {},
   "outputs": [
    {
     "data": {
      "text/html": [
       "<div>\n",
       "<style scoped>\n",
       "    .dataframe tbody tr th:only-of-type {\n",
       "        vertical-align: middle;\n",
       "    }\n",
       "\n",
       "    .dataframe tbody tr th {\n",
       "        vertical-align: top;\n",
       "    }\n",
       "\n",
       "    .dataframe thead th {\n",
       "        text-align: right;\n",
       "    }\n",
       "</style>\n",
       "<table border=\"1\" class=\"dataframe\">\n",
       "  <thead>\n",
       "    <tr style=\"text-align: right;\">\n",
       "      <th></th>\n",
       "      <th>Направление, специальность, профессия</th>\n",
       "      <th>Итоговая сумма баллов</th>\n",
       "      <th>Год</th>\n",
       "    </tr>\n",
       "  </thead>\n",
       "  <tbody>\n",
       "    <tr>\n",
       "      <th>0</th>\n",
       "      <td>05.03.01 Геология</td>\n",
       "      <td>125.0</td>\n",
       "      <td>2015</td>\n",
       "    </tr>\n",
       "    <tr>\n",
       "      <th>1</th>\n",
       "      <td>09.03.01 Информатика и вычислительная техника</td>\n",
       "      <td>146.0</td>\n",
       "      <td>2015</td>\n",
       "    </tr>\n",
       "    <tr>\n",
       "      <th>2</th>\n",
       "      <td>09.03.02 Информационные системы и технологии</td>\n",
       "      <td>150.0</td>\n",
       "      <td>2015</td>\n",
       "    </tr>\n",
       "  </tbody>\n",
       "</table>\n",
       "</div>"
      ],
      "text/plain": [
       "           Направление, специальность, профессия  Итоговая сумма баллов   Год\n",
       "0                              05.03.01 Геология                  125.0  2015\n",
       "1  09.03.01 Информатика и вычислительная техника                  146.0  2015\n",
       "2   09.03.02 Информационные системы и технологии                  150.0  2015"
      ]
     },
     "execution_count": 32,
     "metadata": {},
     "output_type": "execute_result"
    }
   ],
   "source": [
    "df_2015 = df_2015.groupby('Направление, специальность, профессия')['Итоговая сумма баллов'].min().reset_index()\n",
    "df_2015[\"Год\"] = 2015\n",
    "df_2015.head(3)"
   ]
  },
  {
   "cell_type": "code",
   "execution_count": 33,
   "metadata": {},
   "outputs": [],
   "source": [
    "df_2015.to_csv(\"ТИУ_проходные_баллы_2015.csv\")"
   ]
  },
  {
   "cell_type": "code",
   "execution_count": 34,
   "metadata": {},
   "outputs": [
    {
     "data": {
      "text/html": [
       "<div>\n",
       "<style scoped>\n",
       "    .dataframe tbody tr th:only-of-type {\n",
       "        vertical-align: middle;\n",
       "    }\n",
       "\n",
       "    .dataframe tbody tr th {\n",
       "        vertical-align: top;\n",
       "    }\n",
       "\n",
       "    .dataframe thead th {\n",
       "        text-align: right;\n",
       "    }\n",
       "</style>\n",
       "<table border=\"1\" class=\"dataframe\">\n",
       "  <thead>\n",
       "    <tr style=\"text-align: right;\">\n",
       "      <th></th>\n",
       "      <th>Вид возмещения затрат</th>\n",
       "      <th>Направление, специальность, профессия</th>\n",
       "      <th>Итоговая сумма баллов</th>\n",
       "    </tr>\n",
       "  </thead>\n",
       "  <tbody>\n",
       "    <tr>\n",
       "      <th>1</th>\n",
       "      <td>бюджет</td>\n",
       "      <td>21.03.01 Нефтегазовое дело</td>\n",
       "      <td>168,00</td>\n",
       "    </tr>\n",
       "    <tr>\n",
       "      <th>2</th>\n",
       "      <td>бюджет</td>\n",
       "      <td>27.03.04 Управление в технических системах</td>\n",
       "      <td>170,00</td>\n",
       "    </tr>\n",
       "    <tr>\n",
       "      <th>4</th>\n",
       "      <td>бюджет</td>\n",
       "      <td>12.03.04 Биотехнические системы и технологии</td>\n",
       "      <td>232,00</td>\n",
       "    </tr>\n",
       "  </tbody>\n",
       "</table>\n",
       "</div>"
      ],
      "text/plain": [
       "  Вид возмещения затрат         Направление, специальность, профессия  \\\n",
       "1                бюджет                    21.03.01 Нефтегазовое дело   \n",
       "2                бюджет    27.03.04 Управление в технических системах   \n",
       "4                бюджет  12.03.04 Биотехнические системы и технологии   \n",
       "\n",
       "  Итоговая сумма баллов  \n",
       "1                168,00  \n",
       "2                170,00  \n",
       "4                232,00  "
      ]
     },
     "execution_count": 34,
     "metadata": {},
     "output_type": "execute_result"
    }
   ],
   "source": [
    "df_2016 = pd.read_excel(files[\"2016\"])\n",
    "df_2016 = df_2016[[\"Вид возмещения затрат\", \"Направление, специальность, профессия\", \"Итоговая сумма баллов\"]]\n",
    "df_2016 = df_2016[df_2016[\"Вид возмещения затрат\"] == \"бюджет\"]\n",
    "df_2016.head(3)"
   ]
  },
  {
   "cell_type": "code",
   "execution_count": 35,
   "metadata": {},
   "outputs": [
    {
     "data": {
      "text/html": [
       "<div>\n",
       "<style scoped>\n",
       "    .dataframe tbody tr th:only-of-type {\n",
       "        vertical-align: middle;\n",
       "    }\n",
       "\n",
       "    .dataframe tbody tr th {\n",
       "        vertical-align: top;\n",
       "    }\n",
       "\n",
       "    .dataframe thead th {\n",
       "        text-align: right;\n",
       "    }\n",
       "</style>\n",
       "<table border=\"1\" class=\"dataframe\">\n",
       "  <thead>\n",
       "    <tr style=\"text-align: right;\">\n",
       "      <th></th>\n",
       "      <th>Направление, специальность, профессия</th>\n",
       "      <th>Итоговая сумма баллов</th>\n",
       "      <th>Год</th>\n",
       "    </tr>\n",
       "  </thead>\n",
       "  <tbody>\n",
       "    <tr>\n",
       "      <th>0</th>\n",
       "      <td>05.03.01 Геология</td>\n",
       "      <td>156.0</td>\n",
       "      <td>2016</td>\n",
       "    </tr>\n",
       "    <tr>\n",
       "      <th>1</th>\n",
       "      <td>07.03.01 Архитектура</td>\n",
       "      <td>267.0</td>\n",
       "      <td>2016</td>\n",
       "    </tr>\n",
       "    <tr>\n",
       "      <th>2</th>\n",
       "      <td>07.03.03 Дизайн архитектурной среды</td>\n",
       "      <td>239.0</td>\n",
       "      <td>2016</td>\n",
       "    </tr>\n",
       "  </tbody>\n",
       "</table>\n",
       "</div>"
      ],
      "text/plain": [
       "  Направление, специальность, профессия  Итоговая сумма баллов   Год\n",
       "0                     05.03.01 Геология                  156.0  2016\n",
       "1                  07.03.01 Архитектура                  267.0  2016\n",
       "2   07.03.03 Дизайн архитектурной среды                  239.0  2016"
      ]
     },
     "execution_count": 35,
     "metadata": {},
     "output_type": "execute_result"
    }
   ],
   "source": [
    "df_2016[\"Итоговая сумма баллов\"] = pd.to_numeric(df_2016['Итоговая сумма баллов'].str.replace(',', '.', regex=False), errors='coerce')\n",
    "df_2016 = df_2016.groupby('Направление, специальность, профессия')['Итоговая сумма баллов'].min().reset_index()\n",
    "df_2016[\"Год\"] = 2016\n",
    "df_2016.head(3)"
   ]
  },
  {
   "cell_type": "code",
   "execution_count": 36,
   "metadata": {},
   "outputs": [],
   "source": [
    "df_2016.to_csv(\"ТИУ_проходные_баллы_2016.csv\")"
   ]
  },
  {
   "cell_type": "code",
   "execution_count": 37,
   "metadata": {},
   "outputs": [
    {
     "data": {
      "text/html": [
       "<div>\n",
       "<style scoped>\n",
       "    .dataframe tbody tr th:only-of-type {\n",
       "        vertical-align: middle;\n",
       "    }\n",
       "\n",
       "    .dataframe tbody tr th {\n",
       "        vertical-align: top;\n",
       "    }\n",
       "\n",
       "    .dataframe thead th {\n",
       "        text-align: right;\n",
       "    }\n",
       "</style>\n",
       "<table border=\"1\" class=\"dataframe\">\n",
       "  <thead>\n",
       "    <tr style=\"text-align: right;\">\n",
       "      <th></th>\n",
       "      <th>Вид возмещения затрат</th>\n",
       "      <th>Направление, специальность, профессия</th>\n",
       "      <th>Итоговая сумма баллов</th>\n",
       "    </tr>\n",
       "  </thead>\n",
       "  <tbody>\n",
       "    <tr>\n",
       "      <th>0</th>\n",
       "      <td>бюджет</td>\n",
       "      <td>21.05.02 Прикладная геология</td>\n",
       "      <td>217,00</td>\n",
       "    </tr>\n",
       "    <tr>\n",
       "      <th>1</th>\n",
       "      <td>бюджет</td>\n",
       "      <td>21.03.01 Нефтегазовое дело</td>\n",
       "      <td>175,00</td>\n",
       "    </tr>\n",
       "    <tr>\n",
       "      <th>3</th>\n",
       "      <td>бюджет</td>\n",
       "      <td>21.03.01 Нефтегазовое дело</td>\n",
       "      <td>231,00</td>\n",
       "    </tr>\n",
       "  </tbody>\n",
       "</table>\n",
       "</div>"
      ],
      "text/plain": [
       "  Вид возмещения затрат Направление, специальность, профессия  \\\n",
       "0                бюджет          21.05.02 Прикладная геология   \n",
       "1                бюджет            21.03.01 Нефтегазовое дело   \n",
       "3                бюджет            21.03.01 Нефтегазовое дело   \n",
       "\n",
       "  Итоговая сумма баллов  \n",
       "0                217,00  \n",
       "1                175,00  \n",
       "3                231,00  "
      ]
     },
     "execution_count": 37,
     "metadata": {},
     "output_type": "execute_result"
    }
   ],
   "source": [
    "df_2017 = pd.read_excel(files[\"2017\"])\n",
    "df_2017 = df_2017[[\"Вид возмещения затрат\", \"Направление, специальность, профессия\", \"Итоговая сумма баллов\"]]\n",
    "df_2017 = df_2017[df_2017[\"Вид возмещения затрат\"] == \"бюджет\"]\n",
    "df_2017.head(3)"
   ]
  },
  {
   "cell_type": "code",
   "execution_count": 38,
   "metadata": {},
   "outputs": [
    {
     "data": {
      "text/html": [
       "<div>\n",
       "<style scoped>\n",
       "    .dataframe tbody tr th:only-of-type {\n",
       "        vertical-align: middle;\n",
       "    }\n",
       "\n",
       "    .dataframe tbody tr th {\n",
       "        vertical-align: top;\n",
       "    }\n",
       "\n",
       "    .dataframe thead th {\n",
       "        text-align: right;\n",
       "    }\n",
       "</style>\n",
       "<table border=\"1\" class=\"dataframe\">\n",
       "  <thead>\n",
       "    <tr style=\"text-align: right;\">\n",
       "      <th></th>\n",
       "      <th>Направление, специальность, профессия</th>\n",
       "      <th>Итоговая сумма баллов</th>\n",
       "      <th>Год</th>\n",
       "    </tr>\n",
       "  </thead>\n",
       "  <tbody>\n",
       "    <tr>\n",
       "      <th>0</th>\n",
       "      <td>05.03.01 Геология</td>\n",
       "      <td>185.0</td>\n",
       "      <td>2017</td>\n",
       "    </tr>\n",
       "    <tr>\n",
       "      <th>1</th>\n",
       "      <td>07.03.01 Архитектура</td>\n",
       "      <td>304.0</td>\n",
       "      <td>2017</td>\n",
       "    </tr>\n",
       "    <tr>\n",
       "      <th>2</th>\n",
       "      <td>07.03.03 Дизайн архитектурной среды</td>\n",
       "      <td>292.0</td>\n",
       "      <td>2017</td>\n",
       "    </tr>\n",
       "  </tbody>\n",
       "</table>\n",
       "</div>"
      ],
      "text/plain": [
       "  Направление, специальность, профессия  Итоговая сумма баллов   Год\n",
       "0                     05.03.01 Геология                  185.0  2017\n",
       "1                  07.03.01 Архитектура                  304.0  2017\n",
       "2   07.03.03 Дизайн архитектурной среды                  292.0  2017"
      ]
     },
     "execution_count": 38,
     "metadata": {},
     "output_type": "execute_result"
    }
   ],
   "source": [
    "df_2017[\"Итоговая сумма баллов\"] = pd.to_numeric(df_2017['Итоговая сумма баллов'].str.replace(',', '.', regex=False), errors='coerce')\n",
    "df_2017 = df_2017.groupby('Направление, специальность, профессия')['Итоговая сумма баллов'].min().reset_index()\n",
    "df_2017[\"Год\"] = 2017\n",
    "df_2017.head(3)"
   ]
  },
  {
   "cell_type": "code",
   "execution_count": 39,
   "metadata": {},
   "outputs": [],
   "source": [
    "df_2017.to_csv(\"ТИУ_проходные_баллы_2017.csv\")"
   ]
  },
  {
   "cell_type": "code",
   "execution_count": 40,
   "metadata": {},
   "outputs": [
    {
     "data": {
      "text/html": [
       "<div>\n",
       "<style scoped>\n",
       "    .dataframe tbody tr th:only-of-type {\n",
       "        vertical-align: middle;\n",
       "    }\n",
       "\n",
       "    .dataframe tbody tr th {\n",
       "        vertical-align: top;\n",
       "    }\n",
       "\n",
       "    .dataframe thead th {\n",
       "        text-align: right;\n",
       "    }\n",
       "</style>\n",
       "<table border=\"1\" class=\"dataframe\">\n",
       "  <thead>\n",
       "    <tr style=\"text-align: right;\">\n",
       "      <th></th>\n",
       "      <th>Вид возмещения затрат</th>\n",
       "      <th>Направление, специальность, профессия</th>\n",
       "      <th>Итоговая сумма баллов</th>\n",
       "    </tr>\n",
       "  </thead>\n",
       "  <tbody>\n",
       "    <tr>\n",
       "      <th>0</th>\n",
       "      <td>бюджет</td>\n",
       "      <td>21.05.02 Прикладная геология</td>\n",
       "      <td>217,00</td>\n",
       "    </tr>\n",
       "    <tr>\n",
       "      <th>1</th>\n",
       "      <td>бюджет</td>\n",
       "      <td>21.03.01 Нефтегазовое дело</td>\n",
       "      <td>175,00</td>\n",
       "    </tr>\n",
       "    <tr>\n",
       "      <th>3</th>\n",
       "      <td>бюджет</td>\n",
       "      <td>21.03.01 Нефтегазовое дело</td>\n",
       "      <td>231,00</td>\n",
       "    </tr>\n",
       "  </tbody>\n",
       "</table>\n",
       "</div>"
      ],
      "text/plain": [
       "  Вид возмещения затрат Направление, специальность, профессия  \\\n",
       "0                бюджет          21.05.02 Прикладная геология   \n",
       "1                бюджет            21.03.01 Нефтегазовое дело   \n",
       "3                бюджет            21.03.01 Нефтегазовое дело   \n",
       "\n",
       "  Итоговая сумма баллов  \n",
       "0                217,00  \n",
       "1                175,00  \n",
       "3                231,00  "
      ]
     },
     "execution_count": 40,
     "metadata": {},
     "output_type": "execute_result"
    }
   ],
   "source": [
    "df_2018 = pd.read_excel(files[\"2018\"])\n",
    "df_2018 = df_2018[[\"Вид возмещения затрат\", \"Направление, специальность, профессия\", \"Итоговая сумма баллов\"]]\n",
    "df_2018 = df_2018[df_2018[\"Вид возмещения затрат\"] == \"бюджет\"]\n",
    "df_2018.head(3)"
   ]
  },
  {
   "cell_type": "code",
   "execution_count": 41,
   "metadata": {},
   "outputs": [
    {
     "data": {
      "text/html": [
       "<div>\n",
       "<style scoped>\n",
       "    .dataframe tbody tr th:only-of-type {\n",
       "        vertical-align: middle;\n",
       "    }\n",
       "\n",
       "    .dataframe tbody tr th {\n",
       "        vertical-align: top;\n",
       "    }\n",
       "\n",
       "    .dataframe thead th {\n",
       "        text-align: right;\n",
       "    }\n",
       "</style>\n",
       "<table border=\"1\" class=\"dataframe\">\n",
       "  <thead>\n",
       "    <tr style=\"text-align: right;\">\n",
       "      <th></th>\n",
       "      <th>Направление, специальность, профессия</th>\n",
       "      <th>Итоговая сумма баллов</th>\n",
       "      <th>Год</th>\n",
       "    </tr>\n",
       "  </thead>\n",
       "  <tbody>\n",
       "    <tr>\n",
       "      <th>0</th>\n",
       "      <td>05.03.01 Геология</td>\n",
       "      <td>185.0</td>\n",
       "      <td>2018</td>\n",
       "    </tr>\n",
       "    <tr>\n",
       "      <th>1</th>\n",
       "      <td>07.03.01 Архитектура</td>\n",
       "      <td>304.0</td>\n",
       "      <td>2018</td>\n",
       "    </tr>\n",
       "    <tr>\n",
       "      <th>2</th>\n",
       "      <td>07.03.03 Дизайн архитектурной среды</td>\n",
       "      <td>292.0</td>\n",
       "      <td>2018</td>\n",
       "    </tr>\n",
       "  </tbody>\n",
       "</table>\n",
       "</div>"
      ],
      "text/plain": [
       "  Направление, специальность, профессия  Итоговая сумма баллов   Год\n",
       "0                     05.03.01 Геология                  185.0  2018\n",
       "1                  07.03.01 Архитектура                  304.0  2018\n",
       "2   07.03.03 Дизайн архитектурной среды                  292.0  2018"
      ]
     },
     "execution_count": 41,
     "metadata": {},
     "output_type": "execute_result"
    }
   ],
   "source": [
    "df_2018[\"Итоговая сумма баллов\"] = pd.to_numeric(df_2018['Итоговая сумма баллов'].str.replace(',', '.', regex=False), errors='coerce')\n",
    "df_2018 = df_2018.groupby('Направление, специальность, профессия')['Итоговая сумма баллов'].min().reset_index()\n",
    "df_2018[\"Год\"] = 2018\n",
    "df_2018.head(3)"
   ]
  },
  {
   "cell_type": "code",
   "execution_count": 42,
   "metadata": {},
   "outputs": [],
   "source": [
    "df_2018.to_csv(\"ТИУ_проходные_баллы_2018.csv\")"
   ]
  }
 ],
 "metadata": {
  "kernelspec": {
   "display_name": "Python 3",
   "language": "python",
   "name": "python3"
  },
  "language_info": {
   "codemirror_mode": {
    "name": "ipython",
    "version": 3
   },
   "file_extension": ".py",
   "mimetype": "text/x-python",
   "name": "python",
   "nbconvert_exporter": "python",
   "pygments_lexer": "ipython3",
   "version": "3.11.3"
  }
 },
 "nbformat": 4,
 "nbformat_minor": 2
}
