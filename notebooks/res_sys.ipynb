{
 "cells": [
  {
   "cell_type": "code",
   "execution_count": 2,
   "metadata": {},
   "outputs": [],
   "source": [
    "import pandas as pd"
   ]
  },
  {
   "cell_type": "code",
   "execution_count": 3,
   "metadata": {},
   "outputs": [
    {
     "data": {
      "text/html": [
       "<div>\n",
       "<style scoped>\n",
       "    .dataframe tbody tr th:only-of-type {\n",
       "        vertical-align: middle;\n",
       "    }\n",
       "\n",
       "    .dataframe tbody tr th {\n",
       "        vertical-align: top;\n",
       "    }\n",
       "\n",
       "    .dataframe thead th {\n",
       "        text-align: right;\n",
       "    }\n",
       "</style>\n",
       "<table border=\"1\" class=\"dataframe\">\n",
       "  <thead>\n",
       "    <tr style=\"text-align: right;\">\n",
       "      <th></th>\n",
       "      <th>Пол</th>\n",
       "      <th>Ср. балл док-та об образовании</th>\n",
       "      <th>Сумма баллов</th>\n",
       "      <th>Обществознание</th>\n",
       "      <th>Математика</th>\n",
       "      <th>Информатика</th>\n",
       "      <th>Русский язык</th>\n",
       "      <th>Физика</th>\n",
       "      <th>Химия</th>\n",
       "      <th>История</th>\n",
       "      <th>Направление подготовки</th>\n",
       "    </tr>\n",
       "  </thead>\n",
       "  <tbody>\n",
       "    <tr>\n",
       "      <th>0</th>\n",
       "      <td>Ж</td>\n",
       "      <td>5.000</td>\n",
       "      <td>247</td>\n",
       "      <td>0.0</td>\n",
       "      <td>84.0</td>\n",
       "      <td>0.0</td>\n",
       "      <td>89.0</td>\n",
       "      <td>64.0</td>\n",
       "      <td>0.0</td>\n",
       "      <td>0.0</td>\n",
       "      <td>21.03.02 Землеустройство и кадастры</td>\n",
       "    </tr>\n",
       "    <tr>\n",
       "      <th>1</th>\n",
       "      <td>Ж</td>\n",
       "      <td>5.000</td>\n",
       "      <td>234</td>\n",
       "      <td>0.0</td>\n",
       "      <td>0.0</td>\n",
       "      <td>0.0</td>\n",
       "      <td>68.0</td>\n",
       "      <td>0.0</td>\n",
       "      <td>0.0</td>\n",
       "      <td>0.0</td>\n",
       "      <td>43.03.00 Сервис и туризм</td>\n",
       "    </tr>\n",
       "    <tr>\n",
       "      <th>2</th>\n",
       "      <td>Ж</td>\n",
       "      <td>4.688</td>\n",
       "      <td>187</td>\n",
       "      <td>0.0</td>\n",
       "      <td>58.0</td>\n",
       "      <td>0.0</td>\n",
       "      <td>67.0</td>\n",
       "      <td>62.0</td>\n",
       "      <td>0.0</td>\n",
       "      <td>0.0</td>\n",
       "      <td>28.03.03 Наноматериалы</td>\n",
       "    </tr>\n",
       "  </tbody>\n",
       "</table>\n",
       "</div>"
      ],
      "text/plain": [
       "  Пол  Ср. балл док-та об образовании  Сумма баллов  Обществознание  \\\n",
       "0   Ж                           5.000           247             0.0   \n",
       "1   Ж                           5.000           234             0.0   \n",
       "2   Ж                           4.688           187             0.0   \n",
       "\n",
       "   Математика  Информатика  Русский язык  Физика  Химия  История  \\\n",
       "0        84.0          0.0          89.0    64.0    0.0      0.0   \n",
       "1         0.0          0.0          68.0     0.0    0.0      0.0   \n",
       "2        58.0          0.0          67.0    62.0    0.0      0.0   \n",
       "\n",
       "                Направление подготовки  \n",
       "0  21.03.02 Землеустройство и кадастры  \n",
       "1             43.03.00 Сервис и туризм  \n",
       "2               28.03.03 Наноматериалы  "
      ]
     },
     "execution_count": 3,
     "metadata": {},
     "output_type": "execute_result"
    }
   ],
   "source": [
    "df = pd.read_csv(\"tyuiu_students_actual_directiobns_2019-2024.csv\")\n",
    "df = df.drop(\"Unnamed: 0\", axis=1)\n",
    "df.head(3)"
   ]
  },
  {
   "cell_type": "code",
   "execution_count": 4,
   "metadata": {},
   "outputs": [],
   "source": [
    "df['ID'], unique_directions = pd.factorize(df['Направление подготовки'])"
   ]
  },
  {
   "cell_type": "code",
   "execution_count": 5,
   "metadata": {},
   "outputs": [
    {
     "data": {
      "text/plain": [
       "37"
      ]
     },
     "execution_count": 5,
     "metadata": {},
     "output_type": "execute_result"
    }
   ],
   "source": [
    "len(df[\"ID\"].unique())"
   ]
  },
  {
   "cell_type": "code",
   "execution_count": 6,
   "metadata": {},
   "outputs": [],
   "source": [
    "from sklearn.metrics.pairwise import cosine_similarity"
   ]
  },
  {
   "cell_type": "code",
   "execution_count": 7,
   "metadata": {},
   "outputs": [],
   "source": [
    "df[\"Пол\"] = df[\"Пол\"].apply(lambda x: 1 if x == \"М\" else 0)"
   ]
  },
  {
   "cell_type": "code",
   "execution_count": 8,
   "metadata": {},
   "outputs": [],
   "source": [
    "features = [\n",
    "    \"Пол\",\n",
    "    \"Ср. балл док-та об образовании\",\n",
    "    \"Сумма баллов\",\n",
    "    \"Обществознание\",\n",
    "    \"Математика\",\n",
    "    \"Информатика\",\n",
    "    \"Русский язык\",\n",
    "    \"Физика\",\n",
    "    \"Химия\",\n",
    "    \"История\"\n",
    "]"
   ]
  },
  {
   "cell_type": "code",
   "execution_count": 9,
   "metadata": {},
   "outputs": [],
   "source": [
    "cos_sim_matrix = cosine_similarity(df[features])"
   ]
  },
  {
   "cell_type": "code",
   "execution_count": 10,
   "metadata": {},
   "outputs": [
    {
     "data": {
      "text/html": [
       "<div>\n",
       "<style scoped>\n",
       "    .dataframe tbody tr th:only-of-type {\n",
       "        vertical-align: middle;\n",
       "    }\n",
       "\n",
       "    .dataframe tbody tr th {\n",
       "        vertical-align: top;\n",
       "    }\n",
       "\n",
       "    .dataframe thead th {\n",
       "        text-align: right;\n",
       "    }\n",
       "</style>\n",
       "<table border=\"1\" class=\"dataframe\">\n",
       "  <thead>\n",
       "    <tr style=\"text-align: right;\">\n",
       "      <th></th>\n",
       "      <th>Направление подготовки</th>\n",
       "      <th>ID</th>\n",
       "    </tr>\n",
       "  </thead>\n",
       "  <tbody>\n",
       "    <tr>\n",
       "      <th>3948</th>\n",
       "      <td>08.03.01 Строительство</td>\n",
       "      <td>6</td>\n",
       "    </tr>\n",
       "    <tr>\n",
       "      <th>4334</th>\n",
       "      <td>21.03.01 Нефтегазовое дело</td>\n",
       "      <td>8</td>\n",
       "    </tr>\n",
       "    <tr>\n",
       "      <th>12111</th>\n",
       "      <td>05.03.01 Геология</td>\n",
       "      <td>20</td>\n",
       "    </tr>\n",
       "    <tr>\n",
       "      <th>11703</th>\n",
       "      <td>21.05.00 Прикладная геология, горное дело, неф...</td>\n",
       "      <td>11</td>\n",
       "    </tr>\n",
       "    <tr>\n",
       "      <th>4374</th>\n",
       "      <td>12.03.04 Биотехнические системы и технологии</td>\n",
       "      <td>26</td>\n",
       "    </tr>\n",
       "    <tr>\n",
       "      <th>...</th>\n",
       "      <td>...</td>\n",
       "      <td>...</td>\n",
       "    </tr>\n",
       "    <tr>\n",
       "      <th>1307</th>\n",
       "      <td>18.03.00 Химические технологии</td>\n",
       "      <td>19</td>\n",
       "    </tr>\n",
       "    <tr>\n",
       "      <th>1317</th>\n",
       "      <td>20.03.01 Техносферная безопасность</td>\n",
       "      <td>10</td>\n",
       "    </tr>\n",
       "    <tr>\n",
       "      <th>319</th>\n",
       "      <td>08.03.01 Строительство</td>\n",
       "      <td>6</td>\n",
       "    </tr>\n",
       "    <tr>\n",
       "      <th>1632</th>\n",
       "      <td>21.03.01 Нефтегазовое дело</td>\n",
       "      <td>8</td>\n",
       "    </tr>\n",
       "    <tr>\n",
       "      <th>668</th>\n",
       "      <td>20.03.01 Техносферная безопасность</td>\n",
       "      <td>10</td>\n",
       "    </tr>\n",
       "  </tbody>\n",
       "</table>\n",
       "<p>12553 rows × 2 columns</p>\n",
       "</div>"
      ],
      "text/plain": [
       "                                  Направление подготовки  ID\n",
       "3948                              08.03.01 Строительство   6\n",
       "4334                          21.03.01 Нефтегазовое дело   8\n",
       "12111                                  05.03.01 Геология  20\n",
       "11703  21.05.00 Прикладная геология, горное дело, неф...  11\n",
       "4374        12.03.04 Биотехнические системы и технологии  26\n",
       "...                                                  ...  ..\n",
       "1307                      18.03.00 Химические технологии  19\n",
       "1317                  20.03.01 Техносферная безопасность  10\n",
       "319                               08.03.01 Строительство   6\n",
       "1632                          21.03.01 Нефтегазовое дело   8\n",
       "668                   20.03.01 Техносферная безопасность  10\n",
       "\n",
       "[12553 rows x 2 columns]"
      ]
     },
     "execution_count": 10,
     "metadata": {},
     "output_type": "execute_result"
    }
   ],
   "source": [
    "student_index = 0\n",
    "similar_student_indices = cos_sim_matrix[student_index].argsort()[::-1][1:]\n",
    "similar_students = df.iloc[similar_student_indices]\n",
    "recommendations = similar_students[['Направление подготовки', \"ID\"]]\n",
    "recommendations"
   ]
  },
  {
   "cell_type": "code",
   "execution_count": 11,
   "metadata": {},
   "outputs": [],
   "source": [
    "test_student = {\n",
    "    \"Пол\": 0,\n",
    "    \"Ср. балл док-та об образовании\": 4.2,\n",
    "    \"Сумма баллов\": 227,\n",
    "    \"Обществознание\": 0,\n",
    "    \"Математика\": 76,\n",
    "    \"Информатика\": 0,\n",
    "    \"Русский язык\": 74,\n",
    "    \"Физика\": 0,\n",
    "    \"Химия\": 70,\n",
    "    \"История\": 80\n",
    "}\n",
    "\n",
    "test_student_df = pd.DataFrame(test_student, index=[0])\n",
    "\n",
    "combined_df = pd.concat([df[features], test_student_df], ignore_index=True)"
   ]
  },
  {
   "cell_type": "code",
   "execution_count": 12,
   "metadata": {},
   "outputs": [],
   "source": [
    "cos_sim_matrix = cosine_similarity(combined_df)"
   ]
  },
  {
   "cell_type": "code",
   "execution_count": 13,
   "metadata": {},
   "outputs": [],
   "source": [
    "new_student_index = len(df)\n",
    "similar_students_indices = cos_sim_matrix[new_student_index].argsort()[::-1][1:]  # Исключаем самого нового студента\n",
    "similar_students = combined_df.iloc[similar_students_indices]"
   ]
  },
  {
   "cell_type": "code",
   "execution_count": 14,
   "metadata": {},
   "outputs": [
    {
     "data": {
      "text/html": [
       "<div>\n",
       "<style scoped>\n",
       "    .dataframe tbody tr th:only-of-type {\n",
       "        vertical-align: middle;\n",
       "    }\n",
       "\n",
       "    .dataframe tbody tr th {\n",
       "        vertical-align: top;\n",
       "    }\n",
       "\n",
       "    .dataframe thead th {\n",
       "        text-align: right;\n",
       "    }\n",
       "</style>\n",
       "<table border=\"1\" class=\"dataframe\">\n",
       "  <thead>\n",
       "    <tr style=\"text-align: right;\">\n",
       "      <th></th>\n",
       "      <th>Направление подготовки</th>\n",
       "      <th>ID</th>\n",
       "    </tr>\n",
       "  </thead>\n",
       "  <tbody>\n",
       "    <tr>\n",
       "      <th>6015</th>\n",
       "      <td>43.03.00 Сервис и туризм</td>\n",
       "      <td>1</td>\n",
       "    </tr>\n",
       "    <tr>\n",
       "      <th>6564</th>\n",
       "      <td>43.03.00 Сервис и туризм</td>\n",
       "      <td>1</td>\n",
       "    </tr>\n",
       "    <tr>\n",
       "      <th>5982</th>\n",
       "      <td>43.03.00 Сервис и туризм</td>\n",
       "      <td>1</td>\n",
       "    </tr>\n",
       "    <tr>\n",
       "      <th>9617</th>\n",
       "      <td>43.03.00 Сервис и туризм</td>\n",
       "      <td>1</td>\n",
       "    </tr>\n",
       "    <tr>\n",
       "      <th>12197</th>\n",
       "      <td>43.03.00 Сервис и туризм</td>\n",
       "      <td>1</td>\n",
       "    </tr>\n",
       "    <tr>\n",
       "      <th>...</th>\n",
       "      <td>...</td>\n",
       "      <td>...</td>\n",
       "    </tr>\n",
       "    <tr>\n",
       "      <th>1307</th>\n",
       "      <td>18.03.00 Химические технологии</td>\n",
       "      <td>19</td>\n",
       "    </tr>\n",
       "    <tr>\n",
       "      <th>1317</th>\n",
       "      <td>20.03.01 Техносферная безопасность</td>\n",
       "      <td>10</td>\n",
       "    </tr>\n",
       "    <tr>\n",
       "      <th>319</th>\n",
       "      <td>08.03.01 Строительство</td>\n",
       "      <td>6</td>\n",
       "    </tr>\n",
       "    <tr>\n",
       "      <th>1632</th>\n",
       "      <td>21.03.01 Нефтегазовое дело</td>\n",
       "      <td>8</td>\n",
       "    </tr>\n",
       "    <tr>\n",
       "      <th>668</th>\n",
       "      <td>20.03.01 Техносферная безопасность</td>\n",
       "      <td>10</td>\n",
       "    </tr>\n",
       "  </tbody>\n",
       "</table>\n",
       "<p>12554 rows × 2 columns</p>\n",
       "</div>"
      ],
      "text/plain": [
       "                   Направление подготовки  ID\n",
       "6015             43.03.00 Сервис и туризм   1\n",
       "6564             43.03.00 Сервис и туризм   1\n",
       "5982             43.03.00 Сервис и туризм   1\n",
       "9617             43.03.00 Сервис и туризм   1\n",
       "12197            43.03.00 Сервис и туризм   1\n",
       "...                                   ...  ..\n",
       "1307       18.03.00 Химические технологии  19\n",
       "1317   20.03.01 Техносферная безопасность  10\n",
       "319                08.03.01 Строительство   6\n",
       "1632           21.03.01 Нефтегазовое дело   8\n",
       "668    20.03.01 Техносферная безопасность  10\n",
       "\n",
       "[12554 rows x 2 columns]"
      ]
     },
     "execution_count": 14,
     "metadata": {},
     "output_type": "execute_result"
    }
   ],
   "source": [
    "recommendations = df.iloc[similar_students_indices][['Направление подготовки', 'ID']]\n",
    "recommendations"
   ]
  },
  {
   "cell_type": "code",
   "execution_count": 15,
   "metadata": {},
   "outputs": [],
   "source": [
    "df.to_csv(\"tyuiu_students_with_ids_2019-2024.csv\")"
   ]
  }
 ],
 "metadata": {
  "kernelspec": {
   "display_name": "Python 3",
   "language": "python",
   "name": "python3"
  },
  "language_info": {
   "codemirror_mode": {
    "name": "ipython",
    "version": 3
   },
   "file_extension": ".py",
   "mimetype": "text/x-python",
   "name": "python",
   "nbconvert_exporter": "python",
   "pygments_lexer": "ipython3",
   "version": "3.11.3"
  }
 },
 "nbformat": 4,
 "nbformat_minor": 2
}
